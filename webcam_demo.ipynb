<<<<<<< HEAD
{
 "cells": [
  {
   "cell_type": "code",
   "execution_count": 2,
   "id": "31f7d629-42f8-4907-ad41-a5b1cf680f11",
   "metadata": {},
   "outputs": [],
   "source": [
    "import cv2\n",
    "import numpy as np\n",
    "from tensorflow.keras.models import load_model\n",
    "import tensorflow as tf\n",
    "\n",
    "# Tải mô hình và bộ phát hiện khuôn mặt\n",
    "try:\n",
    "    model = load_model(\"emotion_recognition_model.keras\")\n",
    "except Exception as e:\n",
    "    print(f\"Không thể tải mô hình: {e}\")\n",
    "    exit(1)\n",
    "\n",
    "emotion_labels = ['Angry', 'Disgust', 'Fear', 'Happy', 'Sad', 'Surprise', 'Neutral']\n",
    "\n",
    "try:\n",
    "    face_cascade = cv2.CascadeClassifier(cv2.data.haarcascades + \"haarcascade_frontalface_default.xml\")\n",
    "    if face_cascade.empty():\n",
    "        raise ValueError(\"Không thể tải file Haar Cascade.\")\n",
    "except Exception as e:\n",
    "    print(f\"Không thể tải Haar Cascade: {e}\")\n",
    "    exit(1)\n",
    "\n",
    "# Hàm dự đoán cảm xúc tối ưu\n",
    "@tf.function(reduce_retracing=True)\n",
    "def predict_emotion_once(input_img):\n",
    "    return model(input_img, training=False)\n",
    "\n",
    "# Khởi tạo webcam\n",
    "cap = cv2.VideoCapture(0)\n",
    "if not cap.isOpened():\n",
    "    print(\"Không thể mở webcam. Vui lòng kiểm tra thiết bị.\")\n",
    "    exit(1)\n",
    "\n",
    "# Thiết lập kích thước khung hình\n",
    "cap.set(cv2.CAP_PROP_FRAME_WIDTH, 640)\n",
    "cap.set(cv2.CAP_PROP_FRAME_HEIGHT, 480)\n",
    "\n",
    "while True:\n",
    "    ret, frame = cap.read()\n",
    "    if not ret:\n",
    "        print(\"Không thể đọc khung hình từ webcam.\")\n",
    "        break\n",
    "\n",
    "    gray = cv2.cvtColor(frame, cv2.COLOR_BGR2GRAY)\n",
    "    faces = face_cascade.detectMultiScale(gray, scaleFactor=1.3, minNeighbors=5)\n",
    "\n",
    "    for (x, y, w, h) in faces:\n",
    "        roi = gray[y:y+h, x:x+w]\n",
    "        roi = cv2.resize(roi, (48, 48))\n",
    "        roi = roi.astype(\"float32\") / 255.0\n",
    "        roi = roi.reshape(1, 48, 48, 1)\n",
    "\n",
    "        prediction = predict_emotion_once(roi)\n",
    "        label = emotion_labels[np.argmax(prediction)]\n",
    "\n",
    "        cv2.rectangle(frame, (x, y), (x+w, y+h), (0, 255, 0), 2)\n",
    "        cv2.putText(frame, label, (x, y-10), cv2.FONT_HERSHEY_SIMPLEX, 0.9, (255, 255, 255), 2)\n",
    "\n",
    "    # Hiển thị thông báo nếu không tìm thấy khuôn mặt\n",
    "    if len(faces) == 0:\n",
    "        cv2.putText(frame, \"No face detected\", (10, 30), cv2.FONT_HERSHEY_SIMPLEX, 0.7, (0, 0, 255), 2)\n",
    "\n",
    "    cv2.imshow(\"Emotion Recognition\", frame)\n",
    "\n",
    "    if cv2.waitKey(1) & 0xFF == ord(\"q\"):\n",
    "        break\n",
    "\n",
    "# Giải phóng tài nguyên\n",
    "cap.release()\n",
    "cv2.destroyAllWindows()"
   ]
  },
  {
   "cell_type": "code",
   "execution_count": null,
   "id": "cc3ed726-9929-466d-b046-9d89603def09",
   "metadata": {},
   "outputs": [],
   "source": []
  },
  {
   "cell_type": "code",
   "execution_count": null,
   "id": "cf2826b6-3c52-41a6-a9bc-e230c9b43034",
   "metadata": {},
   "outputs": [],
   "source": []
  },
  {
   "cell_type": "code",
   "execution_count": null,
   "id": "663fe494-f7ad-45db-8e62-710d8d28d326",
   "metadata": {},
   "outputs": [],
   "source": []
  }
 ],
 "metadata": {
  "kernelspec": {
   "display_name": "Python 3 (ipykernel)",
   "language": "python",
   "name": "python3"
  },
  "language_info": {
   "codemirror_mode": {
    "name": "ipython",
    "version": 3
   },
   "file_extension": ".py",
   "mimetype": "text/x-python",
   "name": "python",
   "nbconvert_exporter": "python",
   "pygments_lexer": "ipython3",
   "version": "3.8.20"
  }
 },
 "nbformat": 4,
 "nbformat_minor": 5
}
=======
import cv2
import numpy as np
from tensorflow.keras.models import load_model
import tensorflow as tf

# Tải mô hình và bộ phát hiện khuôn mặt
try:
    model = load_model("emotion_recognition_model.keras")
except Exception as e:
    print(f"Không thể tải mô hình: {e}")
    exit(1)

emotion_labels = ['Angry', 'Disgust', 'Fear', 'Happy', 'Sad', 'Surprise', 'Neutral']

try:
    face_cascade = cv2.CascadeClassifier(cv2.data.haarcascades + "haarcascade_frontalface_default.xml")
    if face_cascade.empty():
        raise ValueError("Không thể tải file Haar Cascade.")
except Exception as e:
    print(f"Không thể tải Haar Cascade: {e}")
    exit(1)

# Hàm dự đoán cảm xúc tối ưu
@tf.function(reduce_retracing=True)
def predict_emotion_once(input_img):
    return model(input_img, training=False)

# Khởi tạo webcam
cap = cv2.VideoCapture(0)
if not cap.isOpened():
    print("Không thể mở webcam. Vui lòng kiểm tra thiết bị.")
    exit(1)

# Thiết lập kích thước khung hình
cap.set(cv2.CAP_PROP_FRAME_WIDTH, 640)
cap.set(cv2.CAP_PROP_FRAME_HEIGHT, 480)

while True:
    ret, frame = cap.read()
    if not ret:
        print("Không thể đọc khung hình từ webcam.")
        break

    gray = cv2.cvtColor(frame, cv2.COLOR_BGR2GRAY)
    faces = face_cascade.detectMultiScale(gray, scaleFactor=1.3, minNeighbors=5)

    for (x, y, w, h) in faces:
        roi = gray[y:y+h, x:x+w]
        roi = cv2.resize(roi, (48, 48))
        roi = roi.astype("float32") / 255.0
        roi = roi.reshape(1, 48, 48, 1)

        prediction = predict_emotion_once(roi)
        label = emotion_labels[np.argmax(prediction)]

        cv2.rectangle(frame, (x, y), (x+w, y+h), (0, 255, 0), 2)
        cv2.putText(frame, label, (x, y-10), cv2.FONT_HERSHEY_SIMPLEX, 0.9, (255, 255, 255), 2)

    # Hiển thị thông báo nếu không tìm thấy khuôn mặt
    if len(faces) == 0:
        cv2.putText(frame, "No face detected", (10, 30), cv2.FONT_HERSHEY_SIMPLEX, 0.7, (0, 0, 255), 2)

    cv2.imshow("Emotion Recognition", frame)

    if cv2.waitKey(1) & 0xFF == ord("q"):
        break

# Giải phóng tài nguyên
cap.release()
cv2.destroyAllWindows()
>>>>>>> 3b2d2fa5c5657c7b8bd948789e7da76730f0c102
