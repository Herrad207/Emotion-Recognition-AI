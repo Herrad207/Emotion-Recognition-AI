{
 "cells": [
  {
   "cell_type": "code",
   "execution_count": 1,
   "id": "9e40b4cd-a3ae-437e-bc95-41b4948470ff",
   "metadata": {},
   "outputs": [
    {
     "name": "stdout",
     "output_type": "stream",
     "text": [
      "1/1 [==============================] - 1s 514ms/step\n",
      "Emotion (no detection): Neutral\n"
     ]
    }
   ],
   "source": [
    "import cv2\n",
    "import numpy as np\n",
    "from tensorflow.keras.models import load_model\n",
    "import os\n",
    "\n",
    "# Tải mô hình đã huấn luyện\n",
    "model = load_model(\"emotion_recognition_model.keras\")\n",
    "emotion_labels = ['Angry', 'Disgust', 'Fear', 'Happy', 'Sad', 'Surprise', 'Neutral']\n",
    "\n",
    "# Bộ phát hiện khuôn mặt\n",
    "face_cascade = cv2.CascadeClassifier(cv2.data.haarcascades + \"haarcascade_frontalface_default.xml\")\n",
    "\n",
    "# Đọc ảnh (có thể là màu hoặc grayscale nhỏ 48x48)\n",
    "img_path = \"Train.jpg\"  # <-- Thay bằng \"Surprise.jpg\" để test ảnh khác\n",
    "img = cv2.imread(img_path)\n",
    "\n",
    "if img is None:\n",
    "    raise ValueError(f\"Không thể đọc ảnh: {img_path}\")\n",
    "\n",
    "# Nếu ảnh có kích thước nhỏ (ví dụ 48x48), xử lý trực tiếp\n",
    "if img.shape[0] <= 64 or img.shape[1] <= 64:\n",
    "    # Chuyển sang grayscale nếu chưa có 1 kênh\n",
    "    if len(img.shape) == 3:\n",
    "        img = cv2.cvtColor(img, cv2.COLOR_BGR2GRAY)\n",
    "\n",
    "    img_resized = cv2.resize(img, (48, 48))\n",
    "    input_img = img_resized.reshape(1, 48, 48, 1) / 255.0\n",
    "\n",
    "    prediction = model.predict(input_img)\n",
    "    emotion = emotion_labels[np.argmax(prediction)]\n",
    "    print(f\"Emotion (no detection): {emotion}\")\n",
    "\n",
    "else:\n",
    "    # Xử lý bình thường với ảnh lớn\n",
    "    gray = cv2.cvtColor(img, cv2.COLOR_BGR2GRAY)\n",
    "    faces = face_cascade.detectMultiScale(gray, scaleFactor=1.1, minNeighbors=5)\n",
    "\n",
    "    if len(faces) == 0:\n",
    "        print(\"Không phát hiện được khuôn mặt nào.\")\n",
    "    else:\n",
    "        for (x, y, w, h) in faces:\n",
    "            face = gray[y:y+h, x:x+w]\n",
    "            face_resized = cv2.resize(face, (48, 48))\n",
    "            input_img = face_resized.reshape(1, 48, 48, 1) / 255.0\n",
    "\n",
    "            prediction = model.predict(input_img)\n",
    "            emotion = emotion_labels[np.argmax(prediction)]\n",
    "\n",
    "            print(f\"Emotion: {emotion}\")\n",
    "            cv2.rectangle(img, (x, y), (x+w, y+h), (0, 255, 0), 2)\n",
    "            cv2.putText(img, emotion, (x, y-10), cv2.FONT_HERSHEY_SIMPLEX, 0.9, (36,255,12), 2)\n",
    "\n",
    "        # Hiển thị kết quả (nếu là ảnh lớn)\n",
    "        cv2.imshow(\"Detected\", img)\n",
    "        cv2.waitKey(0)\n",
    "        cv2.destroyAllWindows()\n"
   ]
  },
  {
   "cell_type": "code",
   "execution_count": null,
   "id": "3a26b8d2-9139-41b4-b380-7b71cf1cf27e",
   "metadata": {},
   "outputs": [],
   "source": []
  },
  {
   "cell_type": "code",
   "execution_count": null,
   "id": "4da51085-fa6f-441c-9b1c-9160172462ae",
   "metadata": {},
   "outputs": [],
   "source": []
  }
 ],
 "metadata": {
  "kernelspec": {
   "display_name": "Python 3 (ipykernel)",
   "language": "python",
   "name": "python3"
  },
  "language_info": {
   "codemirror_mode": {
    "name": "ipython",
    "version": 3
   },
   "file_extension": ".py",
   "mimetype": "text/x-python",
   "name": "python",
   "nbconvert_exporter": "python",
   "pygments_lexer": "ipython3",
   "version": "3.8.20"
  }
 },
 "nbformat": 4,
 "nbformat_minor": 5
}
