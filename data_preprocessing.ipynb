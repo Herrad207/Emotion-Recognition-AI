{
 "cells": [
  {
   "cell_type": "code",
   "execution_count": 1,
   "id": "b418ca44-38db-4c12-abf6-417258754ddb",
   "metadata": {},
   "outputs": [],
   "source": [
    "import pandas as pd\n",
    "import numpy as np\n",
    "from sklearn.model_selection import train_test_split\n",
    "from tensorflow.keras.utils import to_categorical\n",
    "\n",
    "def load_fer2013(csv_path='F:/Anaconda/Data/fer2013.csv'):\n",
    "    try:\n",
    "        df = pd.read_csv(csv_path)\n",
    "        print(\"✅ Đã đọc file thành công!\")\n",
    "        \n",
    "        pixels = df['pixels'].tolist()\n",
    "        faces = np.array([np.fromstring(pix, sep=' ') for pix in pixels], dtype='float32')\n",
    "        faces = faces.reshape(-1, 48, 48, 1) / 255.0\n",
    "        \n",
    "        emotions = to_categorical(df['emotion'], num_classes=7)\n",
    "\n",
    "        return train_test_split(faces, emotions, test_size=0.2, random_state=42)\n",
    "    except Exception as e:\n",
    "        print(f\"❌ Không thể đọc file: {e}\")\n",
    "        return None, None, None, None\n"
   ]
  },
  {
   "cell_type": "code",
   "execution_count": null,
   "id": "75d2b3c2-6a03-4b27-bbc5-f698d5fb1a8b",
   "metadata": {},
   "outputs": [],
   "source": []
  },
  {
   "cell_type": "code",
   "execution_count": null,
   "id": "22cda73f-1008-4f1b-b1ba-786b01086cb9",
   "metadata": {},
   "outputs": [],
   "source": []
  },
  {
   "cell_type": "code",
   "execution_count": null,
   "id": "f4ced22a-77bd-4574-98d9-0cd1bf19bdc8",
   "metadata": {},
   "outputs": [],
   "source": []
  }
 ],
 "metadata": {
  "kernelspec": {
   "display_name": "Python 3 (ipykernel)",
   "language": "python",
   "name": "python3"
  },
  "language_info": {
   "codemirror_mode": {
    "name": "ipython",
    "version": 3
   },
   "file_extension": ".py",
   "mimetype": "text/x-python",
   "name": "python",
   "nbconvert_exporter": "python",
   "pygments_lexer": "ipython3",
   "version": "3.8.20"
  }
 },
 "nbformat": 4,
 "nbformat_minor": 5
}
